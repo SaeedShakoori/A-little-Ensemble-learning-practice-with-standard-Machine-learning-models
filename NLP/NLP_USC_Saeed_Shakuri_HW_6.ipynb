{
  "nbformat": 4,
  "nbformat_minor": 0,
  "metadata": {
    "colab": {
      "provenance": []
    },
    "kernelspec": {
      "name": "python3",
      "display_name": "Python 3"
    },
    "language_info": {
      "name": "python"
    }
  },
  "cells": [
    {
      "cell_type": "markdown",
      "source": [
        "***Saeed Shakuri - NLP - USC - HW 6***"
      ],
      "metadata": {
        "id": "APWu2eYpop75"
      }
    },
    {
      "cell_type": "code",
      "source": [
        "# Importing required libraries\n",
        "import nltk\n",
        "from nltk.tokenize import word_tokenize\n",
        "from nltk.corpus import stopwords\n",
        "from nltk.stem import PorterStemmer\n",
        "from sklearn.feature_extraction.text import TfidfVectorizer\n",
        "from sklearn.metrics.pairwise import cosine_similarity\n",
        "nltk.download('punkt')\n",
        "nltk.download('stopwords')"
      ],
      "metadata": {
        "id": "vE4_L8g11ej-",
        "colab": {
          "base_uri": "https://localhost:8080/"
        },
        "outputId": "ed0c7bd7-6f14-48f6-c655-ee1ad12e3b2f"
      },
      "execution_count": 38,
      "outputs": [
        {
          "output_type": "stream",
          "name": "stderr",
          "text": [
            "[nltk_data] Downloading package punkt to /root/nltk_data...\n",
            "[nltk_data]   Package punkt is already up-to-date!\n",
            "[nltk_data] Downloading package stopwords to /root/nltk_data...\n",
            "[nltk_data]   Package stopwords is already up-to-date!\n"
          ]
        },
        {
          "output_type": "execute_result",
          "data": {
            "text/plain": [
              "True"
            ]
          },
          "metadata": {},
          "execution_count": 38
        }
      ]
    },
    {
      "cell_type": "markdown",
      "source": [
        "Tokenizing the passages"
      ],
      "metadata": {
        "id": "acjDnHCQBkiM"
      }
    },
    {
      "cell_type": "code",
      "execution_count": 39,
      "metadata": {
        "id": "63RMnU6k1XRu"
      },
      "outputs": [],
      "source": [
        "# Readign the CSV file\n",
        "passages = []\n",
        "with open('AI generated text.csv', 'r') as file:\n",
        "    for line in file:\n",
        "        passages.append(line.strip())\n",
        "\n",
        "# Tokenizing each passage\n",
        "tokenized = []\n",
        "for i in passages:\n",
        "    tokens = word_tokenize(i)\n",
        "    tokenized.append(tokens)"
      ]
    },
    {
      "cell_type": "markdown",
      "source": [
        "Removing stopwords"
      ],
      "metadata": {
        "id": "d9kNVGz19y_Q"
      }
    },
    {
      "cell_type": "code",
      "source": [
        "filtered_passage = []\n",
        "stop_words = set(stopwords.words('english'))\n",
        "for tokens in tokenized:\n",
        "    filtered_tokens = [word for word in tokens if word.lower() not in stop_words]\n",
        "    filtered_passage.append(filtered_tokens)\n",
        "stemmed_data = []\n",
        "stemmer = PorterStemmer()\n",
        "for tokens in filtered_passage:\n",
        "    stemmed_tokens = [stemmer.stem(word) for word in tokens]\n",
        "    stemmed_data.append(stemmed_tokens)"
      ],
      "metadata": {
        "id": "xUfE1Shk9yaw"
      },
      "execution_count": 40,
      "outputs": []
    },
    {
      "cell_type": "markdown",
      "source": [
        "Normalizing, Tokenzization, and Stemming"
      ],
      "metadata": {
        "id": "5RWZm3Dq-xzv"
      }
    },
    {
      "cell_type": "code",
      "source": [
        "query = input('Enter The KeyWord: ')\n",
        "query_tokens = word_tokenize(query)\n",
        "filtered_query_tokens = [word for word in query_tokens if word.lower() not in stop_words]\n",
        "stemmed_query_tokens = [stemmer.stem(word) for word in filtered_query_tokens]"
      ],
      "metadata": {
        "colab": {
          "base_uri": "https://localhost:8080/"
        },
        "id": "oauwqNRg-xf0",
        "outputId": "e0837185-1120-47a4-a49a-8ccf12f9e434"
      },
      "execution_count": 41,
      "outputs": [
        {
          "name": "stdout",
          "output_type": "stream",
          "text": [
            "Enter The KeyWord: food\n"
          ]
        }
      ]
    },
    {
      "cell_type": "markdown",
      "source": [
        "Boolean Retrieval"
      ],
      "metadata": {
        "id": "-10hfbOT_DOw"
      }
    },
    {
      "cell_type": "code",
      "source": [
        "# Retrieve relevant documents using the Boolean model\n",
        "relevant_docs_boolean = []\n",
        "for i, doc in enumerate(stemmed_data):\n",
        "    if set(stemmed_query_tokens).issubset(doc):\n",
        "        relevant_docs_boolean.append(i)\n",
        "\n",
        "# Sort the relevant documents by relevance score\n",
        "relevant_docs_boolean = sorted(relevant_docs_boolean, key=lambda i: len(set(stemmed_query_tokens).intersection(stemmed_data[i])), reverse=True)\n",
        "\n",
        "# Print the top 10 most relevant documents in 10 words each\n",
        "num_docs_to_print = min(10, len(relevant_docs_boolean))\n",
        "for i in range(num_docs_to_print):\n",
        "    doc_idx = relevant_docs_boolean[i]\n",
        "    print(f\"Document {doc_idx}: {passages[doc_idx][:90]}...\")\n",
        "\n",
        "# Prompt the user to enter an index number and print the corresponding document\n",
        "doc_idx = int(input(\"Enter the index number of a document to view: \"))\n",
        "print(passages[doc_idx])"
      ],
      "metadata": {
        "colab": {
          "base_uri": "https://localhost:8080/"
        },
        "id": "T8wmtPGw_CwX",
        "outputId": "3ca08e75-0e1b-4509-9bf9-0cbc75813091"
      },
      "execution_count": 42,
      "outputs": [
        {
          "output_type": "stream",
          "name": "stdout",
          "text": [
            "Document 0: ﻿\"Eating a balanced diet is crucial for maintaining good health. A healthy diet should inc...\n",
            "Document 1: \"Food is more than just a source of sustenance; it is an experience that engages all of ou...\n",
            "Document 2: \"The food industry is constantly evolving to meet the changing tastes and preferences of c...\n",
            "Document 3: \"Food is an essential aspect of our daily lives. It provides us with the energy and nutrie...\n",
            "Document 4: \"Despite the many benefits of food, there are also challenges associated with food product...\n",
            "Document 5: \"Food plays an important role in our lives beyond just nutrition. It's a means of expressi...\n",
            "Document 6: \"Food is a universal language that brings people together. It's an essential part of our d...\n",
            "Document 7: \"Food is much more than just fuel for our bodies. It is an essential part of our lives tha...\n",
            "Document 8: \"Eating a balanced diet is crucial for maintaining good health. A healthy diet should incl...\n",
            "Document 9: \"Food is more than just a source of sustenance; it is an experience that engages all of ou...\n",
            "Enter the index number of a document to view: 9\n",
            "\"Food is more than just a source of sustenance; it is an experience that engages all of our senses. The colors, smells, textures, and flavors of different foods can transport us to different parts of the world and evoke memories of our childhood or travels. Food is also a powerful way to bring people together. Whether it's sharing a meal with family, gathering with friends for a barbecue, or attending a potluck, food has a way of creating connections and building relationships. In addition to its sensory and social benefits, food also has important nutritional value. Eating a balanced diet with a variety of fruits, vegetables, whole grains, and lean proteins can help us maintain a healthy weight and reduce our risk of chronic diseases like diabetes and heart disease.\"\n"
          ]
        }
      ]
    },
    {
      "cell_type": "markdown",
      "source": [
        ".\n",
        ".\n",
        "### **TF-IDF**\n",
        ".\n",
        "."
      ],
      "metadata": {
        "id": "lvfdSj0lACbo"
      }
    },
    {
      "cell_type": "code",
      "source": [
        "passage = []\n",
        "with open('AI generated text.csv', 'r') as f:\n",
        "    for line in f:\n",
        "        passage.append(line.strip())\n",
        "\n",
        "# Tokenize each document\n",
        "tokenized_data = []\n",
        "for doc in passage:\n",
        "    tokens = word_tokenize(doc)\n",
        "    tokenized_data.append(tokens)\n",
        "\n",
        "# Remove stop words \n",
        "filtered_data = []\n",
        "stop_words = set(stopwords.words('english'))\n",
        "for tokens in tokenized_data:\n",
        "    filtered_tokens = [word for word in tokens if word.lower() not in stop_words]\n",
        "    filtered_data.append(filtered_tokens)\n",
        "\n",
        "# Stem each word \n",
        "stemmed_data = []\n",
        "stemmer = PorterStemmer()\n",
        "for tokens in filtered_data:\n",
        "    stemmed_tokens = [stemmer.stem(word) for word in tokens]\n",
        "    stemmed_data.append(stemmed_tokens)\n",
        "\n",
        "# Getting a query from the user\n",
        "query = input('Enter The Keyword: ')\n",
        "\n",
        "# Tokenize, filter, and stem the query\n",
        "query_tokens = word_tokenize(query)\n",
        "filtered_query_tokens = [word for word in query_tokens if word.lower() not in stop_words]\n",
        "stemmed_query_tokens = [stemmer.stem(word) for word in filtered_query_tokens]\n",
        "\n",
        "# Calculate the TF-IDF matrix for the stemmed documents\n",
        "vectorizer = TfidfVectorizer()\n",
        "tfidf_matrix = vectorizer.fit_transform([' '.join(tokens) for tokens in stemmed_data])\n",
        "\n",
        "# Calculate the TF-IDF vector for the query\n",
        "query_tfidf_vector = vectorizer.transform([' '.join(stemmed_query_tokens)])\n",
        "\n",
        "# Calculate the cosine similarity between the query and each document\n",
        "cos_similarities = cosine_similarity(query_tfidf_vector, tfidf_matrix)[0]\n",
        "\n",
        "# Retrieve relevant documents using the TF-IDF model\n",
        "relevant_docs_tfidf = cos_similarities.argsort()[::-1]\n",
        "\n",
        "# Sort the relevant documents by relevance score\n",
        "relevant_docs_tfidf = sorted(relevant_docs_tfidf, key=lambda i: len(set(stemmed_query_tokens).intersection(stemmed_data[i])), reverse=True)\n",
        "\n",
        "# Print the top 10 most relevant documents in 10 words each\n",
        "num_docs_to_print = min(10, len(relevant_docs_tfidf))\n",
        "for i in range(num_docs_to_print):\n",
        "    doc_idx = relevant_docs_tfidf[i]\n",
        "    print(f\"Document {doc_idx}: {passage[doc_idx][:90]}...\")\n",
        "\n",
        "# Prompt the user to enter an index number and print the corresponding document\n",
        "doc_idx = int(input(\"Enter the index number of a document to view: \"))\n",
        "print(passage[doc_idx])"
      ],
      "metadata": {
        "colab": {
          "base_uri": "https://localhost:8080/"
        },
        "id": "osIY_dKbAC6A",
        "outputId": "1de16d2f-9e95-428a-8c40-adcdf01bc9c8"
      },
      "execution_count": 43,
      "outputs": [
        {
          "output_type": "stream",
          "name": "stdout",
          "text": [
            "Enter The Keyword: food\n",
            "Document 76: \"Despite the many benefits of food, there are also challenges associated with food product...\n",
            "Document 55: \"Despite the many benefits of food, there are also challenges associated with food product...\n",
            "Document 34: \"Despite the many benefits of food, there are also challenges associated with food product...\n",
            "Document 90: \"Despite the many benefits of food, there are also challenges associated with food product...\n",
            "Document 27: \"Despite the many benefits of food, there are also challenges associated with food product...\n",
            "Document 48: \"Despite the many benefits of food, there are also challenges associated with food product...\n",
            "Document 20: \"Despite the many benefits of food, there are also challenges associated with food product...\n",
            "Document 83: \"Despite the many benefits of food, there are also challenges associated with food product...\n",
            "Document 97: \"Despite the many benefits of food, there are also challenges associated with food product...\n",
            "Document 12: \"Despite the many benefits of food, there are also challenges associated with food product...\n",
            "Enter the index number of a document to view: 12\n",
            "\"Despite the many benefits of food, there are also challenges associated with food production and consumption. Climate change, food insecurity, and food waste are just a few of the issues facing the food system today. It's important for individuals, organizations, and governments to work together to address these challenges and create a more sustainable and equitable food system. This may involve supporting local farmers, reducing food waste, and investing in research and innovation to create new solutions to food-related problems. By working together, we can ensure that everyone has access to safe, nutritious, and culturally appropriate food, now and in the future.\"\n"
          ]
        }
      ]
    }
  ]
}